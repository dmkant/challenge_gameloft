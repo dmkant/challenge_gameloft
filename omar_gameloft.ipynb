{
 "cells": [
  {
   "cell_type": "code",
   "execution_count": 1,
   "metadata": {},
   "outputs": [],
   "source": [
    "import pandas as pd\n",
    "import os\n",
    "import textblob  \n",
    "from textblob import TextBlob"
   ]
  },
  {
   "cell_type": "code",
   "execution_count": 2,
   "metadata": {},
   "outputs": [],
   "source": [
    "file_DML=\"reviews_DML_US_GP.csv\"\n",
    "file_DC= \"reviews_DC_US_GP.csv\"\n",
    "file_DV=\"reviews_DV_US_GP.csv\""
   ]
  },
  {
   "cell_type": "code",
   "execution_count": 3,
   "metadata": {},
   "outputs": [],
   "source": [
    "DML=pd.read_csv(f\"data/{file_DML}\",sep=\"\\t\")\n",
    "DC=pd.read_csv(f\"data/{file_DC}\",sep=\"\\t\")\n",
    "DV=pd.read_csv(f\"data/{file_DV}\",sep=\"\\t\")"
   ]
  },
  {
   "cell_type": "code",
   "execution_count": 4,
   "metadata": {},
   "outputs": [
    {
     "name": "stdout",
     "output_type": "stream",
     "text": [
      "<bound method NDFrame.head of       Country  Rating        Date Version          Username Title  \\\n",
      "0          US       5  2023-02-28  7.2.0e       Ayman Ahmed   NaN   \n",
      "1          US       1  2023-02-27  7.2.0e      anh tran hai   NaN   \n",
      "2          US       5  2023-02-27  7.2.0e             Della   NaN   \n",
      "3          US       5  2023-02-27  7.2.0e     AYNGARAN __02   NaN   \n",
      "4          US       2  2023-02-27  7.2.0e  vikash gaming op   NaN   \n",
      "...       ...     ...         ...     ...               ...   ...   \n",
      "99995      US       5  2018-06-19  3.7.0i     A Google user   NaN   \n",
      "99996      US       5  2018-06-19  3.7.0i  skarkyboy really   NaN   \n",
      "99997      US       4  2018-06-19  3.7.0i       Mike Keeler   NaN   \n",
      "99998      US       5  2018-06-19  3.7.0i     Daquan Nelson   NaN   \n",
      "99999      US       5  2018-06-19  3.7.0i     moomoo cowies   NaN   \n",
      "\n",
      "                                                 Content  \n",
      "0        it's a good way to help u understand what to do  \n",
      "1      The game is really bad. When I return to the g...  \n",
      "2                       The best game to pass the world.  \n",
      "3                                                 madmax  \n",
      "4      I give a 4 star but ads very annoying please r...  \n",
      "...                                                  ...  \n",
      "99995         It very cute and fun keep up the good work  \n",
      "99996                                      Fun like heck  \n",
      "99997  I love games like this its just it takes time ...  \n",
      "99998                           I love this game so much  \n",
      "99999      I like that its a time consumer when im bored  \n",
      "\n",
      "[100000 rows x 7 columns]>\n",
      "<bound method NDFrame.head of       Country  Rating        Date Version                  Username Title  \\\n",
      "0          US       5  2023-02-28  23.2.1        Ribera Vega Fabian   NaN   \n",
      "1          US       5  2023-02-28  23.2.1                   H Henry   NaN   \n",
      "2          US       5  2023-02-28  23.2.1              Jeremy Lopez   NaN   \n",
      "3          US       5  2023-02-28  23.2.1               Rap Sarason   NaN   \n",
      "4          US       2  2023-02-28  23.2.1     Earl ambrose Macqouid   NaN   \n",
      "...       ...     ...         ...     ...                       ...   ...   \n",
      "99995      US       5  2021-11-29  12.7.4                Tamra Frye   NaN   \n",
      "99996      US       5  2021-11-29  12.7.4              Randy Torres   NaN   \n",
      "99997      US       5  2021-11-29  12.7.4  SUN Ajade Cloud Belmonte   NaN   \n",
      "99998      US       5  2021-11-29  12.7.4                Spacecat k   NaN   \n",
      "99999      US       5  2021-11-29  12.7.4                 Gail Sims   NaN   \n",
      "\n",
      "                                                 Content  \n",
      "0                            it super fun and to play🤜🤛🤘  \n",
      "1                                           love 💘 it🔥🐉🐲  \n",
      "2                                          good for kids  \n",
      "3                                                     gg  \n",
      "4      Two stars because the loading screen took ages...  \n",
      "...                                                  ...  \n",
      "99995  Have to play this game it is the best you won'...  \n",
      "99996                                Dragones incredible  \n",
      "99997  Cool app and im so many dragon And thanks to t...  \n",
      "99998                Awesome heroics I have two heroics.  \n",
      "99999                    This is the best game i love it  \n",
      "\n",
      "[100000 rows x 7 columns]>\n",
      "<bound method NDFrame.head of       Country  Rating        Date Version             Username      Title  \\\n",
      "0          US       2  2023-02-26  4.27.4       Emmalee Wetzel        NaN   \n",
      "1          US       1  2023-02-25  4.27.4       Joffil Alberio        NaN   \n",
      "2          US       1  2023-02-25  4.27.4        Shyla Knudsen        NaN   \n",
      "3          US       4  2023-02-25     NaN        Justin Carpio        NaN   \n",
      "4          US       5  2023-02-25     NaN        Michael Teare        NaN   \n",
      "...       ...     ...         ...     ...                  ...        ...   \n",
      "71640      US       3  2013-12-24   2.1.1         RUFINO ARAUT    Love it   \n",
      "71641      US       1  2013-12-24   2.1.1  Isz Nurlisa Shahira         Mu   \n",
      "71642      US       5  2013-12-24   2.1.1        A Google user    LOVE IT   \n",
      "71643      US       5  2013-12-24   2.1.1      Gorawyn Diamwnt  Excellent   \n",
      "71644      US       5  2013-12-24   2.1.1            Kim Thanh        NaN   \n",
      "\n",
      "                                                 Content  \n",
      "0      I cannot get into my dragonvale account thats ...  \n",
      "1      Am I the only one playing this game in 2023, w...  \n",
      "2      I had a world before and it didn't show up, as...  \n",
      "3                                     This game is Nice😎  \n",
      "4                                              Thank you  \n",
      "...                                                  ...  \n",
      "71640                      I can,t not playing this game  \n",
      "71641                                                Huh  \n",
      "71642                                           Amazing.  \n",
      "71643                                            Love it  \n",
      "71644                                  Hhhhhhhhhhhhhhhhh  \n",
      "\n",
      "[71645 rows x 7 columns]>\n"
     ]
    }
   ],
   "source": [
    "print(DML.head)\n",
    "print(DC.head)\n",
    "print(DV.head)\n"
   ]
  },
  {
   "cell_type": "code",
   "execution_count": 5,
   "metadata": {},
   "outputs": [],
   "source": [
    "from gensim.models import Word2Vec\n",
    "import nltk\n",
    "from gensim.models import KeyedVectors\n",
    "from nltk.cluster import KMeansClusterer\n",
    "import numpy as np \n",
    "\n",
    "from sklearn import cluster\n",
    "from sklearn import metrics"
   ]
  },
  {
   "cell_type": "code",
   "execution_count": 6,
   "metadata": {},
   "outputs": [],
   "source": [
    "import re"
   ]
  },
  {
   "cell_type": "code",
   "execution_count": 7,
   "metadata": {},
   "outputs": [],
   "source": [
    "def nlp_pipeline(text):\n",
    "\n",
    "    text = text.lower() # mettre les mots en minuscule\n",
    "\n",
    "# Retirons les caractères spéciaux :\n",
    "\n",
    "    text = re.sub(r\"[,\\!\\?\\%\\(\\)\\/\\\"]\", \"\", text)\n",
    "    text = re.sub(r\"\\&\\S*\\s\", \"\", text)\n",
    "    text = re.sub(r\"\\-\", \"\", text)\n",
    "    \n",
    "    return text\n"
   ]
  },
  {
   "cell_type": "code",
   "execution_count": 8,
   "metadata": {},
   "outputs": [
    {
     "name": "stdout",
     "output_type": "stream",
     "text": [
      "2023-03-07 14:32:11.006521: W tensorflow/stream_executor/platform/default/dso_loader.cc:64] Could not load dynamic library 'libcudart.so.11.0'; dlerror: libcudart.so.11.0: cannot open shared object file: No such file or directory\n",
      "2023-03-07 14:32:11.006592: I tensorflow/stream_executor/cuda/cudart_stub.cc:29] Ignore above cudart dlerror if you do not have a GPU set up on your machine.\n",
      "2023-03-07 14:32:12.522602: W tensorflow/stream_executor/platform/default/dso_loader.cc:64] Could not load dynamic library 'libcuda.so.1'; dlerror: libcuda.so.1: cannot open shared object file: No such file or directory\n",
      "2023-03-07 14:32:12.522660: W tensorflow/stream_executor/cuda/cuda_driver.cc:269] failed call to cuInit: UNKNOWN ERROR (303)\n",
      "2023-03-07 14:32:12.522697: I tensorflow/stream_executor/cuda/cuda_diagnostics.cc:156] kernel driver does not appear to be running on this host (jupyther): /proc/driver/nvidia/version does not exist\n",
      "Defaulting to user installation because normal site-packages is not writeable\n",
      "Collecting en-core-web-md==3.5.0\n",
      "  Downloading https://github.com/explosion/spacy-models/releases/download/en_core_web_md-3.5.0/en_core_web_md-3.5.0-py3-none-any.whl (42.8 MB)\n",
      "\u001b[2K     \u001b[90m━━━━━━━━━━━━━━━━━━━━━━━━━━━━━━━━━━━━━━━━\u001b[0m \u001b[32m42.8/42.8 MB\u001b[0m \u001b[31m15.2 MB/s\u001b[0m eta \u001b[36m0:00:00\u001b[0m00:01\u001b[0m00:01\u001b[0m\n",
      "\u001b[?25hRequirement already satisfied: spacy<3.6.0,>=3.5.0 in /home/jupyter-id2181/.local/lib/python3.7/site-packages (from en-core-web-md==3.5.0) (3.5.0)\n",
      "Requirement already satisfied: preshed<3.1.0,>=3.0.2 in /home/jupyter-id2181/.local/lib/python3.7/site-packages (from spacy<3.6.0,>=3.5.0->en-core-web-md==3.5.0) (3.0.8)\n",
      "Requirement already satisfied: smart-open<7.0.0,>=5.2.1 in /home/jupyter-id2181/.local/lib/python3.7/site-packages (from spacy<3.6.0,>=3.5.0->en-core-web-md==3.5.0) (6.3.0)\n",
      "Requirement already satisfied: wasabi<1.2.0,>=0.9.1 in /home/jupyter-id2181/.local/lib/python3.7/site-packages (from spacy<3.6.0,>=3.5.0->en-core-web-md==3.5.0) (1.1.1)\n",
      "Requirement already satisfied: thinc<8.2.0,>=8.1.0 in /home/jupyter-id2181/.local/lib/python3.7/site-packages (from spacy<3.6.0,>=3.5.0->en-core-web-md==3.5.0) (8.1.8)\n",
      "Requirement already satisfied: cymem<2.1.0,>=2.0.2 in /home/jupyter-id2181/.local/lib/python3.7/site-packages (from spacy<3.6.0,>=3.5.0->en-core-web-md==3.5.0) (2.0.7)\n",
      "Requirement already satisfied: pydantic!=1.8,!=1.8.1,<1.11.0,>=1.7.4 in /home/jupyter-id2181/.local/lib/python3.7/site-packages (from spacy<3.6.0,>=3.5.0->en-core-web-md==3.5.0) (1.10.5)\n",
      "Requirement already satisfied: murmurhash<1.1.0,>=0.28.0 in /home/jupyter-id2181/.local/lib/python3.7/site-packages (from spacy<3.6.0,>=3.5.0->en-core-web-md==3.5.0) (1.0.9)\n",
      "Requirement already satisfied: catalogue<2.1.0,>=2.0.6 in /home/jupyter-id2181/.local/lib/python3.7/site-packages (from spacy<3.6.0,>=3.5.0->en-core-web-md==3.5.0) (2.0.8)\n",
      "Requirement already satisfied: typer<0.8.0,>=0.3.0 in /home/jupyter-id2181/.local/lib/python3.7/site-packages (from spacy<3.6.0,>=3.5.0->en-core-web-md==3.5.0) (0.7.0)\n",
      "Requirement already satisfied: spacy-legacy<3.1.0,>=3.0.11 in /home/jupyter-id2181/.local/lib/python3.7/site-packages (from spacy<3.6.0,>=3.5.0->en-core-web-md==3.5.0) (3.0.12)\n",
      "Requirement already satisfied: jinja2 in /opt/tljh/user/lib/python3.7/site-packages (from spacy<3.6.0,>=3.5.0->en-core-web-md==3.5.0) (2.11.3)\n",
      "Requirement already satisfied: srsly<3.0.0,>=2.4.3 in /home/jupyter-id2181/.local/lib/python3.7/site-packages (from spacy<3.6.0,>=3.5.0->en-core-web-md==3.5.0) (2.4.6)\n",
      "Requirement already satisfied: setuptools in /opt/tljh/user/lib/python3.7/site-packages (from spacy<3.6.0,>=3.5.0->en-core-web-md==3.5.0) (58.3.0)\n",
      "Requirement already satisfied: packaging>=20.0 in /opt/tljh/user/lib/python3.7/site-packages (from spacy<3.6.0,>=3.5.0->en-core-web-md==3.5.0) (20.9)\n",
      "Requirement already satisfied: spacy-loggers<2.0.0,>=1.0.0 in /home/jupyter-id2181/.local/lib/python3.7/site-packages (from spacy<3.6.0,>=3.5.0->en-core-web-md==3.5.0) (1.0.4)\n",
      "Requirement already satisfied: pathy>=0.10.0 in /home/jupyter-id2181/.local/lib/python3.7/site-packages (from spacy<3.6.0,>=3.5.0->en-core-web-md==3.5.0) (0.10.1)\n",
      "Requirement already satisfied: typing-extensions<4.5.0,>=3.7.4.1 in /home/jupyter-id2181/.local/lib/python3.7/site-packages (from spacy<3.6.0,>=3.5.0->en-core-web-md==3.5.0) (4.4.0)\n",
      "Requirement already satisfied: langcodes<4.0.0,>=3.2.0 in /home/jupyter-id2181/.local/lib/python3.7/site-packages (from spacy<3.6.0,>=3.5.0->en-core-web-md==3.5.0) (3.3.0)\n",
      "Requirement already satisfied: tqdm<5.0.0,>=4.38.0 in /home/jupyter-id2181/.local/lib/python3.7/site-packages (from spacy<3.6.0,>=3.5.0->en-core-web-md==3.5.0) (4.65.0)\n",
      "Requirement already satisfied: numpy>=1.15.0 in /opt/tljh/user/lib/python3.7/site-packages (from spacy<3.6.0,>=3.5.0->en-core-web-md==3.5.0) (1.20.2)\n",
      "Requirement already satisfied: requests<3.0.0,>=2.13.0 in /opt/tljh/user/lib/python3.7/site-packages (from spacy<3.6.0,>=3.5.0->en-core-web-md==3.5.0) (2.22.0)\n",
      "Requirement already satisfied: zipp>=0.5 in /opt/tljh/user/lib/python3.7/site-packages (from catalogue<2.1.0,>=2.0.6->spacy<3.6.0,>=3.5.0->en-core-web-md==3.5.0) (3.4.1)\n",
      "Requirement already satisfied: pyparsing>=2.0.2 in /opt/tljh/user/lib/python3.7/site-packages (from packaging>=20.0->spacy<3.6.0,>=3.5.0->en-core-web-md==3.5.0) (2.4.7)\n",
      "Requirement already satisfied: certifi>=2017.4.17 in /opt/tljh/user/lib/python3.7/site-packages (from requests<3.0.0,>=2.13.0->spacy<3.6.0,>=3.5.0->en-core-web-md==3.5.0) (2020.12.5)\n",
      "Requirement already satisfied: chardet<3.1.0,>=3.0.2 in /opt/tljh/user/lib/python3.7/site-packages (from requests<3.0.0,>=2.13.0->spacy<3.6.0,>=3.5.0->en-core-web-md==3.5.0) (3.0.4)\n",
      "Requirement already satisfied: urllib3!=1.25.0,!=1.25.1,<1.26,>=1.21.1 in /opt/tljh/user/lib/python3.7/site-packages (from requests<3.0.0,>=2.13.0->spacy<3.6.0,>=3.5.0->en-core-web-md==3.5.0) (1.24.2)\n",
      "Requirement already satisfied: idna<2.9,>=2.5 in /opt/tljh/user/lib/python3.7/site-packages (from requests<3.0.0,>=2.13.0->spacy<3.6.0,>=3.5.0->en-core-web-md==3.5.0) (2.8)\n",
      "Requirement already satisfied: blis<0.8.0,>=0.7.8 in /home/jupyter-id2181/.local/lib/python3.7/site-packages (from thinc<8.2.0,>=8.1.0->spacy<3.6.0,>=3.5.0->en-core-web-md==3.5.0) (0.7.9)\n",
      "Requirement already satisfied: confection<1.0.0,>=0.0.1 in /home/jupyter-id2181/.local/lib/python3.7/site-packages (from thinc<8.2.0,>=8.1.0->spacy<3.6.0,>=3.5.0->en-core-web-md==3.5.0) (0.0.4)\n",
      "Requirement already satisfied: click<9.0.0,>=7.1.1 in /opt/tljh/user/lib/python3.7/site-packages (from typer<0.8.0,>=0.3.0->spacy<3.6.0,>=3.5.0->en-core-web-md==3.5.0) (7.1.2)\n",
      "Requirement already satisfied: MarkupSafe>=0.23 in /opt/tljh/user/lib/python3.7/site-packages (from jinja2->spacy<3.6.0,>=3.5.0->en-core-web-md==3.5.0) (1.1.1)\n",
      "\u001b[38;5;2m✔ Download and installation successful\u001b[0m\n",
      "You can now load the package via spacy.load('en_core_web_md')\n"
     ]
    }
   ],
   "source": [
    "!python -m spacy download en_core_web_md"
   ]
  },
  {
   "cell_type": "code",
   "execution_count": 9,
   "metadata": {},
   "outputs": [],
   "source": [
    "import spacy"
   ]
  },
  {
   "cell_type": "code",
   "execution_count": 10,
   "metadata": {},
   "outputs": [
    {
     "name": "stdout",
     "output_type": "stream",
     "text": [
      "Defaulting to user installation because normal site-packages is not writeable\n",
      "Requirement already satisfied: spacy in /home/jupyter-id2181/.local/lib/python3.7/site-packages (3.5.0)\n",
      "Requirement already satisfied: spacy-legacy<3.1.0,>=3.0.11 in /home/jupyter-id2181/.local/lib/python3.7/site-packages (from spacy) (3.0.12)\n",
      "Requirement already satisfied: langcodes<4.0.0,>=3.2.0 in /home/jupyter-id2181/.local/lib/python3.7/site-packages (from spacy) (3.3.0)\n",
      "Requirement already satisfied: srsly<3.0.0,>=2.4.3 in /home/jupyter-id2181/.local/lib/python3.7/site-packages (from spacy) (2.4.6)\n",
      "Requirement already satisfied: thinc<8.2.0,>=8.1.0 in /home/jupyter-id2181/.local/lib/python3.7/site-packages (from spacy) (8.1.8)\n",
      "Requirement already satisfied: wasabi<1.2.0,>=0.9.1 in /home/jupyter-id2181/.local/lib/python3.7/site-packages (from spacy) (1.1.1)\n",
      "Requirement already satisfied: murmurhash<1.1.0,>=0.28.0 in /home/jupyter-id2181/.local/lib/python3.7/site-packages (from spacy) (1.0.9)\n",
      "Requirement already satisfied: cymem<2.1.0,>=2.0.2 in /home/jupyter-id2181/.local/lib/python3.7/site-packages (from spacy) (2.0.7)\n",
      "Requirement already satisfied: packaging>=20.0 in /opt/tljh/user/lib/python3.7/site-packages (from spacy) (20.9)\n",
      "Requirement already satisfied: typer<0.8.0,>=0.3.0 in /home/jupyter-id2181/.local/lib/python3.7/site-packages (from spacy) (0.7.0)\n",
      "Requirement already satisfied: preshed<3.1.0,>=3.0.2 in /home/jupyter-id2181/.local/lib/python3.7/site-packages (from spacy) (3.0.8)\n",
      "Requirement already satisfied: tqdm<5.0.0,>=4.38.0 in /home/jupyter-id2181/.local/lib/python3.7/site-packages (from spacy) (4.65.0)\n",
      "Requirement already satisfied: typing-extensions<4.5.0,>=3.7.4.1 in /home/jupyter-id2181/.local/lib/python3.7/site-packages (from spacy) (4.4.0)\n",
      "Requirement already satisfied: pathy>=0.10.0 in /home/jupyter-id2181/.local/lib/python3.7/site-packages (from spacy) (0.10.1)\n",
      "Requirement already satisfied: catalogue<2.1.0,>=2.0.6 in /home/jupyter-id2181/.local/lib/python3.7/site-packages (from spacy) (2.0.8)\n",
      "Requirement already satisfied: requests<3.0.0,>=2.13.0 in /opt/tljh/user/lib/python3.7/site-packages (from spacy) (2.22.0)\n",
      "Requirement already satisfied: jinja2 in /opt/tljh/user/lib/python3.7/site-packages (from spacy) (2.11.3)\n",
      "Requirement already satisfied: setuptools in /opt/tljh/user/lib/python3.7/site-packages (from spacy) (58.3.0)\n",
      "Requirement already satisfied: spacy-loggers<2.0.0,>=1.0.0 in /home/jupyter-id2181/.local/lib/python3.7/site-packages (from spacy) (1.0.4)\n",
      "Requirement already satisfied: smart-open<7.0.0,>=5.2.1 in /home/jupyter-id2181/.local/lib/python3.7/site-packages (from spacy) (6.3.0)\n",
      "Requirement already satisfied: pydantic!=1.8,!=1.8.1,<1.11.0,>=1.7.4 in /home/jupyter-id2181/.local/lib/python3.7/site-packages (from spacy) (1.10.5)\n",
      "Requirement already satisfied: numpy>=1.15.0 in /opt/tljh/user/lib/python3.7/site-packages (from spacy) (1.20.2)\n",
      "Requirement already satisfied: zipp>=0.5 in /opt/tljh/user/lib/python3.7/site-packages (from catalogue<2.1.0,>=2.0.6->spacy) (3.4.1)\n",
      "Requirement already satisfied: pyparsing>=2.0.2 in /opt/tljh/user/lib/python3.7/site-packages (from packaging>=20.0->spacy) (2.4.7)\n",
      "Requirement already satisfied: certifi>=2017.4.17 in /opt/tljh/user/lib/python3.7/site-packages (from requests<3.0.0,>=2.13.0->spacy) (2020.12.5)\n",
      "Requirement already satisfied: chardet<3.1.0,>=3.0.2 in /opt/tljh/user/lib/python3.7/site-packages (from requests<3.0.0,>=2.13.0->spacy) (3.0.4)\n",
      "Requirement already satisfied: idna<2.9,>=2.5 in /opt/tljh/user/lib/python3.7/site-packages (from requests<3.0.0,>=2.13.0->spacy) (2.8)\n",
      "Requirement already satisfied: urllib3!=1.25.0,!=1.25.1,<1.26,>=1.21.1 in /opt/tljh/user/lib/python3.7/site-packages (from requests<3.0.0,>=2.13.0->spacy) (1.24.2)\n",
      "Requirement already satisfied: blis<0.8.0,>=0.7.8 in /home/jupyter-id2181/.local/lib/python3.7/site-packages (from thinc<8.2.0,>=8.1.0->spacy) (0.7.9)\n",
      "Requirement already satisfied: confection<1.0.0,>=0.0.1 in /home/jupyter-id2181/.local/lib/python3.7/site-packages (from thinc<8.2.0,>=8.1.0->spacy) (0.0.4)\n",
      "Requirement already satisfied: click<9.0.0,>=7.1.1 in /opt/tljh/user/lib/python3.7/site-packages (from typer<0.8.0,>=0.3.0->spacy) (7.1.2)\n",
      "Requirement already satisfied: MarkupSafe>=0.23 in /opt/tljh/user/lib/python3.7/site-packages (from jinja2->spacy) (1.1.1)\n",
      "Note: you may need to restart the kernel to use updated packages.\n"
     ]
    }
   ],
   "source": [
    "pip install spacy "
   ]
  },
  {
   "cell_type": "code",
   "execution_count": 11,
   "metadata": {},
   "outputs": [
    {
     "name": "stdout",
     "output_type": "stream",
     "text": [
      "Defaulting to user installation because normal site-packages is not writeable\n",
      "Requirement already satisfied: spacytextblob in /home/jupyter-id2181/.local/lib/python3.7/site-packages (4.0.0)\n",
      "Requirement already satisfied: spacy<4.0,>=3.0 in /home/jupyter-id2181/.local/lib/python3.7/site-packages (from spacytextblob) (3.5.0)\n",
      "Requirement already satisfied: textblob<0.16.0,>=0.15.3 in /home/jupyter-id2181/.local/lib/python3.7/site-packages (from spacytextblob) (0.15.3)\n",
      "Requirement already satisfied: cymem<2.1.0,>=2.0.2 in /home/jupyter-id2181/.local/lib/python3.7/site-packages (from spacy<4.0,>=3.0->spacytextblob) (2.0.7)\n",
      "Requirement already satisfied: typer<0.8.0,>=0.3.0 in /home/jupyter-id2181/.local/lib/python3.7/site-packages (from spacy<4.0,>=3.0->spacytextblob) (0.7.0)\n",
      "Requirement already satisfied: jinja2 in /opt/tljh/user/lib/python3.7/site-packages (from spacy<4.0,>=3.0->spacytextblob) (2.11.3)\n",
      "Requirement already satisfied: catalogue<2.1.0,>=2.0.6 in /home/jupyter-id2181/.local/lib/python3.7/site-packages (from spacy<4.0,>=3.0->spacytextblob) (2.0.8)\n",
      "Requirement already satisfied: srsly<3.0.0,>=2.4.3 in /home/jupyter-id2181/.local/lib/python3.7/site-packages (from spacy<4.0,>=3.0->spacytextblob) (2.4.6)\n",
      "Requirement already satisfied: pydantic!=1.8,!=1.8.1,<1.11.0,>=1.7.4 in /home/jupyter-id2181/.local/lib/python3.7/site-packages (from spacy<4.0,>=3.0->spacytextblob) (1.10.5)\n",
      "Requirement already satisfied: numpy>=1.15.0 in /opt/tljh/user/lib/python3.7/site-packages (from spacy<4.0,>=3.0->spacytextblob) (1.20.2)\n",
      "Requirement already satisfied: tqdm<5.0.0,>=4.38.0 in /home/jupyter-id2181/.local/lib/python3.7/site-packages (from spacy<4.0,>=3.0->spacytextblob) (4.65.0)\n",
      "Requirement already satisfied: murmurhash<1.1.0,>=0.28.0 in /home/jupyter-id2181/.local/lib/python3.7/site-packages (from spacy<4.0,>=3.0->spacytextblob) (1.0.9)\n",
      "Requirement already satisfied: preshed<3.1.0,>=3.0.2 in /home/jupyter-id2181/.local/lib/python3.7/site-packages (from spacy<4.0,>=3.0->spacytextblob) (3.0.8)\n",
      "Requirement already satisfied: requests<3.0.0,>=2.13.0 in /opt/tljh/user/lib/python3.7/site-packages (from spacy<4.0,>=3.0->spacytextblob) (2.22.0)\n",
      "Requirement already satisfied: spacy-loggers<2.0.0,>=1.0.0 in /home/jupyter-id2181/.local/lib/python3.7/site-packages (from spacy<4.0,>=3.0->spacytextblob) (1.0.4)\n",
      "Requirement already satisfied: pathy>=0.10.0 in /home/jupyter-id2181/.local/lib/python3.7/site-packages (from spacy<4.0,>=3.0->spacytextblob) (0.10.1)\n",
      "Requirement already satisfied: setuptools in /opt/tljh/user/lib/python3.7/site-packages (from spacy<4.0,>=3.0->spacytextblob) (58.3.0)\n",
      "Requirement already satisfied: langcodes<4.0.0,>=3.2.0 in /home/jupyter-id2181/.local/lib/python3.7/site-packages (from spacy<4.0,>=3.0->spacytextblob) (3.3.0)\n",
      "Requirement already satisfied: thinc<8.2.0,>=8.1.0 in /home/jupyter-id2181/.local/lib/python3.7/site-packages (from spacy<4.0,>=3.0->spacytextblob) (8.1.8)\n",
      "Requirement already satisfied: packaging>=20.0 in /opt/tljh/user/lib/python3.7/site-packages (from spacy<4.0,>=3.0->spacytextblob) (20.9)\n",
      "Requirement already satisfied: wasabi<1.2.0,>=0.9.1 in /home/jupyter-id2181/.local/lib/python3.7/site-packages (from spacy<4.0,>=3.0->spacytextblob) (1.1.1)\n",
      "Requirement already satisfied: smart-open<7.0.0,>=5.2.1 in /home/jupyter-id2181/.local/lib/python3.7/site-packages (from spacy<4.0,>=3.0->spacytextblob) (6.3.0)\n",
      "Requirement already satisfied: spacy-legacy<3.1.0,>=3.0.11 in /home/jupyter-id2181/.local/lib/python3.7/site-packages (from spacy<4.0,>=3.0->spacytextblob) (3.0.12)\n",
      "Requirement already satisfied: typing-extensions<4.5.0,>=3.7.4.1 in /home/jupyter-id2181/.local/lib/python3.7/site-packages (from spacy<4.0,>=3.0->spacytextblob) (4.4.0)\n",
      "Requirement already satisfied: nltk>=3.1 in /opt/tljh/user/lib/python3.7/site-packages (from textblob<0.16.0,>=0.15.3->spacytextblob) (3.6.5)\n",
      "Requirement already satisfied: zipp>=0.5 in /opt/tljh/user/lib/python3.7/site-packages (from catalogue<2.1.0,>=2.0.6->spacy<4.0,>=3.0->spacytextblob) (3.4.1)\n",
      "Requirement already satisfied: click in /opt/tljh/user/lib/python3.7/site-packages (from nltk>=3.1->textblob<0.16.0,>=0.15.3->spacytextblob) (7.1.2)\n",
      "Requirement already satisfied: regex>=2021.8.3 in /opt/tljh/user/lib/python3.7/site-packages (from nltk>=3.1->textblob<0.16.0,>=0.15.3->spacytextblob) (2021.10.23)\n",
      "Requirement already satisfied: joblib in /opt/tljh/user/lib/python3.7/site-packages (from nltk>=3.1->textblob<0.16.0,>=0.15.3->spacytextblob) (1.0.1)\n",
      "Requirement already satisfied: pyparsing>=2.0.2 in /opt/tljh/user/lib/python3.7/site-packages (from packaging>=20.0->spacy<4.0,>=3.0->spacytextblob) (2.4.7)\n",
      "Requirement already satisfied: urllib3!=1.25.0,!=1.25.1,<1.26,>=1.21.1 in /opt/tljh/user/lib/python3.7/site-packages (from requests<3.0.0,>=2.13.0->spacy<4.0,>=3.0->spacytextblob) (1.24.2)\n",
      "Requirement already satisfied: certifi>=2017.4.17 in /opt/tljh/user/lib/python3.7/site-packages (from requests<3.0.0,>=2.13.0->spacy<4.0,>=3.0->spacytextblob) (2020.12.5)\n",
      "Requirement already satisfied: idna<2.9,>=2.5 in /opt/tljh/user/lib/python3.7/site-packages (from requests<3.0.0,>=2.13.0->spacy<4.0,>=3.0->spacytextblob) (2.8)\n",
      "Requirement already satisfied: chardet<3.1.0,>=3.0.2 in /opt/tljh/user/lib/python3.7/site-packages (from requests<3.0.0,>=2.13.0->spacy<4.0,>=3.0->spacytextblob) (3.0.4)\n",
      "Requirement already satisfied: blis<0.8.0,>=0.7.8 in /home/jupyter-id2181/.local/lib/python3.7/site-packages (from thinc<8.2.0,>=8.1.0->spacy<4.0,>=3.0->spacytextblob) (0.7.9)\n",
      "Requirement already satisfied: confection<1.0.0,>=0.0.1 in /home/jupyter-id2181/.local/lib/python3.7/site-packages (from thinc<8.2.0,>=8.1.0->spacy<4.0,>=3.0->spacytextblob) (0.0.4)\n",
      "Requirement already satisfied: MarkupSafe>=0.23 in /opt/tljh/user/lib/python3.7/site-packages (from jinja2->spacy<4.0,>=3.0->spacytextblob) (1.1.1)\n",
      "Note: you may need to restart the kernel to use updated packages.\n"
     ]
    }
   ],
   "source": [
    "pip install spacytextblob"
   ]
  },
  {
   "cell_type": "code",
   "execution_count": 12,
   "metadata": {},
   "outputs": [
    {
     "name": "stdout",
     "output_type": "stream",
     "text": [
      "2023-03-07 14:32:26.845725: W tensorflow/stream_executor/platform/default/dso_loader.cc:64] Could not load dynamic library 'libcudart.so.11.0'; dlerror: libcudart.so.11.0: cannot open shared object file: No such file or directory\n",
      "2023-03-07 14:32:26.845794: I tensorflow/stream_executor/cuda/cudart_stub.cc:29] Ignore above cudart dlerror if you do not have a GPU set up on your machine.\n",
      "2023-03-07 14:32:28.320484: W tensorflow/stream_executor/platform/default/dso_loader.cc:64] Could not load dynamic library 'libcuda.so.1'; dlerror: libcuda.so.1: cannot open shared object file: No such file or directory\n",
      "2023-03-07 14:32:28.320539: W tensorflow/stream_executor/cuda/cuda_driver.cc:269] failed call to cuInit: UNKNOWN ERROR (303)\n",
      "2023-03-07 14:32:28.320575: I tensorflow/stream_executor/cuda/cuda_diagnostics.cc:156] kernel driver does not appear to be running on this host (jupyther): /proc/driver/nvidia/version does not exist\n",
      "Defaulting to user installation because normal site-packages is not writeable\n",
      "Collecting en-core-web-md==3.5.0\n",
      "  Downloading https://github.com/explosion/spacy-models/releases/download/en_core_web_md-3.5.0/en_core_web_md-3.5.0-py3-none-any.whl (42.8 MB)\n",
      "\u001b[2K     \u001b[90m━━━━━━━━━━━━━━━━━━━━━━━━━━━━━━━━━━━━━━━━\u001b[0m \u001b[32m42.8/42.8 MB\u001b[0m \u001b[31m15.5 MB/s\u001b[0m eta \u001b[36m0:00:00\u001b[0m00:01\u001b[0m00:01\u001b[0m\n",
      "\u001b[?25hRequirement already satisfied: spacy<3.6.0,>=3.5.0 in /home/jupyter-id2181/.local/lib/python3.7/site-packages (from en-core-web-md==3.5.0) (3.5.0)\n",
      "Requirement already satisfied: srsly<3.0.0,>=2.4.3 in /home/jupyter-id2181/.local/lib/python3.7/site-packages (from spacy<3.6.0,>=3.5.0->en-core-web-md==3.5.0) (2.4.6)\n",
      "Requirement already satisfied: tqdm<5.0.0,>=4.38.0 in /home/jupyter-id2181/.local/lib/python3.7/site-packages (from spacy<3.6.0,>=3.5.0->en-core-web-md==3.5.0) (4.65.0)\n",
      "Requirement already satisfied: spacy-loggers<2.0.0,>=1.0.0 in /home/jupyter-id2181/.local/lib/python3.7/site-packages (from spacy<3.6.0,>=3.5.0->en-core-web-md==3.5.0) (1.0.4)\n",
      "Requirement already satisfied: numpy>=1.15.0 in /opt/tljh/user/lib/python3.7/site-packages (from spacy<3.6.0,>=3.5.0->en-core-web-md==3.5.0) (1.20.2)\n",
      "Requirement already satisfied: typer<0.8.0,>=0.3.0 in /home/jupyter-id2181/.local/lib/python3.7/site-packages (from spacy<3.6.0,>=3.5.0->en-core-web-md==3.5.0) (0.7.0)\n",
      "Requirement already satisfied: requests<3.0.0,>=2.13.0 in /opt/tljh/user/lib/python3.7/site-packages (from spacy<3.6.0,>=3.5.0->en-core-web-md==3.5.0) (2.22.0)\n",
      "Requirement already satisfied: spacy-legacy<3.1.0,>=3.0.11 in /home/jupyter-id2181/.local/lib/python3.7/site-packages (from spacy<3.6.0,>=3.5.0->en-core-web-md==3.5.0) (3.0.12)\n",
      "Requirement already satisfied: pydantic!=1.8,!=1.8.1,<1.11.0,>=1.7.4 in /home/jupyter-id2181/.local/lib/python3.7/site-packages (from spacy<3.6.0,>=3.5.0->en-core-web-md==3.5.0) (1.10.5)\n",
      "Requirement already satisfied: packaging>=20.0 in /opt/tljh/user/lib/python3.7/site-packages (from spacy<3.6.0,>=3.5.0->en-core-web-md==3.5.0) (20.9)\n",
      "Requirement already satisfied: smart-open<7.0.0,>=5.2.1 in /home/jupyter-id2181/.local/lib/python3.7/site-packages (from spacy<3.6.0,>=3.5.0->en-core-web-md==3.5.0) (6.3.0)\n",
      "Requirement already satisfied: catalogue<2.1.0,>=2.0.6 in /home/jupyter-id2181/.local/lib/python3.7/site-packages (from spacy<3.6.0,>=3.5.0->en-core-web-md==3.5.0) (2.0.8)\n",
      "Requirement already satisfied: cymem<2.1.0,>=2.0.2 in /home/jupyter-id2181/.local/lib/python3.7/site-packages (from spacy<3.6.0,>=3.5.0->en-core-web-md==3.5.0) (2.0.7)\n",
      "Requirement already satisfied: pathy>=0.10.0 in /home/jupyter-id2181/.local/lib/python3.7/site-packages (from spacy<3.6.0,>=3.5.0->en-core-web-md==3.5.0) (0.10.1)\n",
      "Requirement already satisfied: jinja2 in /opt/tljh/user/lib/python3.7/site-packages (from spacy<3.6.0,>=3.5.0->en-core-web-md==3.5.0) (2.11.3)\n",
      "Requirement already satisfied: murmurhash<1.1.0,>=0.28.0 in /home/jupyter-id2181/.local/lib/python3.7/site-packages (from spacy<3.6.0,>=3.5.0->en-core-web-md==3.5.0) (1.0.9)\n",
      "Requirement already satisfied: typing-extensions<4.5.0,>=3.7.4.1 in /home/jupyter-id2181/.local/lib/python3.7/site-packages (from spacy<3.6.0,>=3.5.0->en-core-web-md==3.5.0) (4.4.0)\n",
      "Requirement already satisfied: langcodes<4.0.0,>=3.2.0 in /home/jupyter-id2181/.local/lib/python3.7/site-packages (from spacy<3.6.0,>=3.5.0->en-core-web-md==3.5.0) (3.3.0)\n",
      "Requirement already satisfied: thinc<8.2.0,>=8.1.0 in /home/jupyter-id2181/.local/lib/python3.7/site-packages (from spacy<3.6.0,>=3.5.0->en-core-web-md==3.5.0) (8.1.8)\n",
      "Requirement already satisfied: setuptools in /opt/tljh/user/lib/python3.7/site-packages (from spacy<3.6.0,>=3.5.0->en-core-web-md==3.5.0) (58.3.0)\n",
      "Requirement already satisfied: wasabi<1.2.0,>=0.9.1 in /home/jupyter-id2181/.local/lib/python3.7/site-packages (from spacy<3.6.0,>=3.5.0->en-core-web-md==3.5.0) (1.1.1)\n",
      "Requirement already satisfied: preshed<3.1.0,>=3.0.2 in /home/jupyter-id2181/.local/lib/python3.7/site-packages (from spacy<3.6.0,>=3.5.0->en-core-web-md==3.5.0) (3.0.8)\n",
      "Requirement already satisfied: zipp>=0.5 in /opt/tljh/user/lib/python3.7/site-packages (from catalogue<2.1.0,>=2.0.6->spacy<3.6.0,>=3.5.0->en-core-web-md==3.5.0) (3.4.1)\n",
      "Requirement already satisfied: pyparsing>=2.0.2 in /opt/tljh/user/lib/python3.7/site-packages (from packaging>=20.0->spacy<3.6.0,>=3.5.0->en-core-web-md==3.5.0) (2.4.7)\n",
      "Requirement already satisfied: certifi>=2017.4.17 in /opt/tljh/user/lib/python3.7/site-packages (from requests<3.0.0,>=2.13.0->spacy<3.6.0,>=3.5.0->en-core-web-md==3.5.0) (2020.12.5)\n",
      "Requirement already satisfied: chardet<3.1.0,>=3.0.2 in /opt/tljh/user/lib/python3.7/site-packages (from requests<3.0.0,>=2.13.0->spacy<3.6.0,>=3.5.0->en-core-web-md==3.5.0) (3.0.4)\n",
      "Requirement already satisfied: idna<2.9,>=2.5 in /opt/tljh/user/lib/python3.7/site-packages (from requests<3.0.0,>=2.13.0->spacy<3.6.0,>=3.5.0->en-core-web-md==3.5.0) (2.8)\n",
      "Requirement already satisfied: urllib3!=1.25.0,!=1.25.1,<1.26,>=1.21.1 in /opt/tljh/user/lib/python3.7/site-packages (from requests<3.0.0,>=2.13.0->spacy<3.6.0,>=3.5.0->en-core-web-md==3.5.0) (1.24.2)\n",
      "Requirement already satisfied: blis<0.8.0,>=0.7.8 in /home/jupyter-id2181/.local/lib/python3.7/site-packages (from thinc<8.2.0,>=8.1.0->spacy<3.6.0,>=3.5.0->en-core-web-md==3.5.0) (0.7.9)\n",
      "Requirement already satisfied: confection<1.0.0,>=0.0.1 in /home/jupyter-id2181/.local/lib/python3.7/site-packages (from thinc<8.2.0,>=8.1.0->spacy<3.6.0,>=3.5.0->en-core-web-md==3.5.0) (0.0.4)\n",
      "Requirement already satisfied: click<9.0.0,>=7.1.1 in /opt/tljh/user/lib/python3.7/site-packages (from typer<0.8.0,>=0.3.0->spacy<3.6.0,>=3.5.0->en-core-web-md==3.5.0) (7.1.2)\n",
      "Requirement already satisfied: MarkupSafe>=0.23 in /opt/tljh/user/lib/python3.7/site-packages (from jinja2->spacy<3.6.0,>=3.5.0->en-core-web-md==3.5.0) (1.1.1)\n",
      "\u001b[38;5;2m✔ Download and installation successful\u001b[0m\n",
      "You can now load the package via spacy.load('en_core_web_md')\n"
     ]
    }
   ],
   "source": [
    "!python -m spacy download en_core_web_md"
   ]
  },
  {
   "cell_type": "code",
   "execution_count": 13,
   "metadata": {},
   "outputs": [],
   "source": [
    "from spacytextblob.spacytextblob import SpacyTextBlob"
   ]
  },
  {
   "cell_type": "code",
   "execution_count": 14,
   "metadata": {},
   "outputs": [],
   "source": [
    "nlp =spacy.load(\"en_core_web_md\")"
   ]
  },
  {
   "cell_type": "code",
   "execution_count": 15,
   "metadata": {},
   "outputs": [
    {
     "data": {
      "text/plain": [
       "<spacytextblob.spacytextblob.SpacyTextBlob at 0x7fe34c990190>"
      ]
     },
     "execution_count": 15,
     "metadata": {},
     "output_type": "execute_result"
    }
   ],
   "source": [
    "nlp.add_pipe('spacytextblob')"
   ]
  },
  {
   "cell_type": "code",
   "execution_count": 16,
   "metadata": {},
   "outputs": [],
   "source": [
    "def preprocess_comment(comment):\n",
    "    doc = nlp(comment.lower())\n",
    "    tokens = [token.lemma_ for token in doc if not token.is_stop and token.is_alpha]\n",
    "    return \" \".join(tokens)\n"
   ]
  },
  {
   "cell_type": "code",
   "execution_count": 17,
   "metadata": {},
   "outputs": [
    {
     "name": "stdout",
     "output_type": "stream",
     "text": [
      "['good way help u understand', 'game bad return game game datum go time gameloft game lose datum gameloft want kick veteran player', 'good game pass world', 'madmax', 'star ad annoying remove ad game good', 'dragon eat fruit eat fish meat honeycomb mainly fish fish game', 'good', 'start play log year progress completely wipe talk support respond good backup server', 'love game', 'fun play exit kid adault age age allow download game download dragon mainia ledgends', 'nice', 'easy got gold coin easy got germ', 'game absolutely fun cute opinion thing bit cheap minor thing wait developer come fun play pep', 'love play delete reason account', 'nice game', 'rate star gameplay amazing game pay win need spend heavily obtain dragon difficult obtain normally force pay event pay win need spend heavily thousand participate event pay recommend', 'well dragon legend', 'think great game dragon city', 'ad base game show completely different game star game fun add show able tap object daily life breed tbem game game overall fun ad say', 'good game', 'memorable game', 'realy good realy like soul elment add dragen mina legens go add soul elment contact maybe march divine event maybe anchent dragon', 'good game', 'nice game child', 'bad', 'nice', 'nice', 'good game', 'love game', 'keep crash', 'play game spend year play state unbearable plague ad interrupt experience downright mid ad crash game crash game thing old game nearly bad right', 'good game', 'fun', 'op app', 'lot ad waste datum time little bit good issue need fix spender game everytime low dragon breed waste time install game spender', 'bad game ad ad delete game ad', 'okay new phone link facebook time load new phone sign facebook save game transfer want start level help', 'great game play hard buy island decrease money', 'thank developer reply comment post ad game awesome graphic good lot thing game collect new dragon fun guess try', 'slim shady real shady', 'big dragon enjoyer game nice cost real money annoying shame offline game', 'sere nge lag dan keluar sendiri saat bermain', 'good game thank', 'good game', 'play game year extremely hard progress game certain point spend unreasonable time game spend money', 'supiri', 'good game', 'ngelag terusss bug terusss improve dongggg', 'favorite game offline playability like game totally well way', 'heavily money orientated initial introduction etc like game like pay open game keep wait order continue despise game like product fair price produce game like old school gamer know want uninstall great graphic feed wait continue game']\n"
     ]
    }
   ],
   "source": [
    "preprocessed_comments = [preprocess_comment(comment) for comment in DML[\"Content\"].iloc[:50]]\n",
    "print(preprocessed_comments)"
   ]
  },
  {
   "cell_type": "code",
   "execution_count": 20,
   "metadata": {},
   "outputs": [
    {
     "name": "stdout",
     "output_type": "stream",
     "text": [
      "good way help u understand -> Sentiment positif (0.7)\n",
      "game bad return game game datum go time gameloft game lose datum gameloft want kick veteran player -> Sentiment négatif (-0.3833333333333333)\n",
      "good game pass world -> Sentiment positif (0.14999999999999997)\n",
      "madmax -> Sentiment neutre (0.0)\n",
      "star ad annoying remove ad game good -> Sentiment négatif (-0.16666666666666674)\n",
      "dragon eat fruit eat fish meat honeycomb mainly fish fish game -> Sentiment négatif (-0.11666666666666668)\n",
      "good -> Sentiment positif (0.7)\n",
      "start play log year progress completely wipe talk support respond good backup server -> Sentiment positif (0.39999999999999997)\n",
      "love game -> Sentiment positif (0.04999999999999999)\n",
      "fun play exit kid adault age age allow download game download dragon mainia ledgends -> Sentiment négatif (-0.05000000000000002)\n",
      "nice -> Sentiment positif (0.6)\n",
      "easy got gold coin easy got germ -> Sentiment positif (0.43333333333333335)\n",
      "game absolutely fun cute opinion thing bit cheap minor thing wait developer come fun play pep -> Sentiment positif (0.17500000000000002)\n",
      "love play delete reason account -> Sentiment positif (0.5)\n",
      "nice game -> Sentiment positif (0.09999999999999998)\n",
      "rate star gameplay amazing game pay win need spend heavily obtain dragon difficult obtain normally force pay event pay win need spend heavily thousand participate event pay recommend -> Sentiment positif (0.13125)\n",
      "well dragon legend -> Sentiment neutre (0.0)\n",
      "think great game dragon city -> Sentiment positif (0.2)\n",
      "ad base game show completely different game star game fun add show able tap object daily life breed tbem game game overall fun ad say -> Sentiment négatif (-0.14166666666666666)\n",
      "good game -> Sentiment positif (0.14999999999999997)\n",
      "memorable game -> Sentiment positif (0.04999999999999999)\n",
      "realy good realy like soul elment add dragen mina legens go add soul elment contact maybe march divine event maybe anchent dragon -> Sentiment positif (0.7)\n",
      "good game -> Sentiment positif (0.14999999999999997)\n",
      "nice game child -> Sentiment positif (0.09999999999999998)\n",
      "bad -> Sentiment négatif (-0.6999999999999998)\n",
      "nice -> Sentiment positif (0.6)\n",
      "nice -> Sentiment positif (0.6)\n",
      "good game -> Sentiment positif (0.14999999999999997)\n",
      "love game -> Sentiment positif (0.04999999999999999)\n",
      "keep crash -> Sentiment neutre (0.0)\n",
      "play game spend year play state unbearable plague ad interrupt experience downright mid ad crash game crash game thing old game nearly bad right -> Sentiment négatif (-0.23928571428571427)\n",
      "good game -> Sentiment positif (0.14999999999999997)\n",
      "fun -> Sentiment positif (0.3)\n",
      "op app -> Sentiment neutre (0.0)\n",
      "lot ad waste datum time little bit good issue need fix spender game everytime low dragon breed waste time install game spender -> Sentiment négatif (-0.09821428571428573)\n",
      "bad game ad ad delete game ad -> Sentiment négatif (-0.5)\n",
      "okay new phone link facebook time load new phone sign facebook save game transfer want start level help -> Sentiment positif (0.09318181818181817)\n",
      "great game play hard buy island decrease money -> Sentiment positif (0.036111111111111115)\n",
      "thank developer reply comment post ad game awesome graphic good lot thing game collect new dragon fun guess try -> Sentiment positif (0.1909090909090909)\n",
      "slim shady real shady -> Sentiment négatif (-0.3125)\n",
      "big dragon enjoyer game nice cost real money annoying shame offline game -> Sentiment négatif (-0.13333333333333333)\n",
      "sere nge lag dan keluar sendiri saat bermain -> Sentiment neutre (0.0)\n",
      "good game thank -> Sentiment positif (0.14999999999999997)\n",
      "good game -> Sentiment positif (0.14999999999999997)\n",
      "play game year extremely hard progress game certain point spend unreasonable time game spend money -> Sentiment négatif (-0.2554761904761905)\n",
      "supiri -> Sentiment neutre (0.0)\n",
      "good game -> Sentiment positif (0.14999999999999997)\n",
      "ngelag terusss bug terusss improve dongggg -> Sentiment neutre (0.0)\n",
      "favorite game offline playability like game totally well way -> Sentiment négatif (-0.07500000000000001)\n",
      "heavily money orientated initial introduction etc like game like pay open game keep wait order continue despise game like product fair price produce game like old school gamer know want uninstall great graphic feed wait continue game -> Sentiment négatif (-0.049999999999999996)\n"
     ]
    }
   ],
   "source": [
    "# Analyser chaque commentaire et afficher le sentiment\n",
    "for commentaire in preprocessed_comments:\n",
    "    doc = nlp(commentaire)\n",
    "    sentiment = doc._.polarity\n",
    "    if sentiment > 0:\n",
    "        print(f\"{commentaire} -> Sentiment positif ({sentiment})\")\n",
    "    elif sentiment < 0:\n",
    "        print(f\"{commentaire} -> Sentiment négatif ({sentiment})\")\n",
    "    else:\n",
    "        print(f\"{commentaire} -> Sentiment neutre ({sentiment})\")"
   ]
  },
  {
   "cell_type": "code",
   "execution_count": null,
   "metadata": {},
   "outputs": [],
   "source": []
  }
 ],
 "metadata": {
  "kernelspec": {
   "display_name": "Python 3",
   "language": "python",
   "name": "python3"
  },
  "language_info": {
   "codemirror_mode": {
    "name": "ipython",
    "version": 3
   },
   "file_extension": ".py",
   "mimetype": "text/x-python",
   "name": "python",
   "nbconvert_exporter": "python",
   "pygments_lexer": "ipython3",
   "version": "3.7.10"
  },
  "vscode": {
   "interpreter": {
    "hash": "691fe1b73d1afbd5c2c0520747ee488d193256e0eb4662554bbbf454c9815a72"
   }
  }
 },
 "nbformat": 4,
 "nbformat_minor": 4
}
