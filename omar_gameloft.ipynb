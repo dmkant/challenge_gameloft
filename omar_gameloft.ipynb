{
 "cells": [
  {
   "cell_type": "code",
   "execution_count": 1,
   "metadata": {},
   "outputs": [],
   "source": [
    "import pandas as pd\n",
    "import os\n",
    "import textblob  \n",
    "from textblob import TextBlob"
   ]
  },
  {
   "cell_type": "code",
   "execution_count": 2,
   "metadata": {},
   "outputs": [],
   "source": [
    "file_DML=\"reviews_DML_US_GP.csv\"\n",
    "file_DC= \"reviews_DC_US_GP.csv\"\n",
    "file_DV=\"reviews_DV_US_GP.csv\""
   ]
  },
  {
   "cell_type": "code",
   "execution_count": 3,
   "metadata": {},
   "outputs": [],
   "source": [
    "DML=pd.read_csv(f\"data/{file_DML}\",sep=\"\\t\")\n",
    "DC=pd.read_csv(f\"data/{file_DC}\",sep=\"\\t\")\n",
    "DV=pd.read_csv(f\"data/{file_DV}\",sep=\"\\t\")"
   ]
  },
  {
   "cell_type": "code",
   "execution_count": 4,
   "metadata": {},
   "outputs": [
    {
     "name": "stdout",
     "output_type": "stream",
     "text": [
      "<bound method NDFrame.head of       Country  Rating        Date Version          Username Title  \\\n",
      "0          US       5  2023-02-28  7.2.0e       Ayman Ahmed   NaN   \n",
      "1          US       1  2023-02-27  7.2.0e      anh tran hai   NaN   \n",
      "2          US       5  2023-02-27  7.2.0e             Della   NaN   \n",
      "3          US       5  2023-02-27  7.2.0e     AYNGARAN __02   NaN   \n",
      "4          US       2  2023-02-27  7.2.0e  vikash gaming op   NaN   \n",
      "...       ...     ...         ...     ...               ...   ...   \n",
      "99995      US       5  2018-06-19  3.7.0i     A Google user   NaN   \n",
      "99996      US       5  2018-06-19  3.7.0i  skarkyboy really   NaN   \n",
      "99997      US       4  2018-06-19  3.7.0i       Mike Keeler   NaN   \n",
      "99998      US       5  2018-06-19  3.7.0i     Daquan Nelson   NaN   \n",
      "99999      US       5  2018-06-19  3.7.0i     moomoo cowies   NaN   \n",
      "\n",
      "                                                 Content  \n",
      "0        it's a good way to help u understand what to do  \n",
      "1      The game is really bad. When I return to the g...  \n",
      "2                       The best game to pass the world.  \n",
      "3                                                 madmax  \n",
      "4      I give a 4 star but ads very annoying please r...  \n",
      "...                                                  ...  \n",
      "99995         It very cute and fun keep up the good work  \n",
      "99996                                      Fun like heck  \n",
      "99997  I love games like this its just it takes time ...  \n",
      "99998                           I love this game so much  \n",
      "99999      I like that its a time consumer when im bored  \n",
      "\n",
      "[100000 rows x 7 columns]>\n",
      "<bound method NDFrame.head of       Country  Rating        Date Version                  Username Title  \\\n",
      "0          US       5  2023-02-28  23.2.1        Ribera Vega Fabian   NaN   \n",
      "1          US       5  2023-02-28  23.2.1                   H Henry   NaN   \n",
      "2          US       5  2023-02-28  23.2.1              Jeremy Lopez   NaN   \n",
      "3          US       5  2023-02-28  23.2.1               Rap Sarason   NaN   \n",
      "4          US       2  2023-02-28  23.2.1     Earl ambrose Macqouid   NaN   \n",
      "...       ...     ...         ...     ...                       ...   ...   \n",
      "99995      US       5  2021-11-29  12.7.4                Tamra Frye   NaN   \n",
      "99996      US       5  2021-11-29  12.7.4              Randy Torres   NaN   \n",
      "99997      US       5  2021-11-29  12.7.4  SUN Ajade Cloud Belmonte   NaN   \n",
      "99998      US       5  2021-11-29  12.7.4                Spacecat k   NaN   \n",
      "99999      US       5  2021-11-29  12.7.4                 Gail Sims   NaN   \n",
      "\n",
      "                                                 Content  \n",
      "0                            it super fun and to play🤜🤛🤘  \n",
      "1                                           love 💘 it🔥🐉🐲  \n",
      "2                                          good for kids  \n",
      "3                                                     gg  \n",
      "4      Two stars because the loading screen took ages...  \n",
      "...                                                  ...  \n",
      "99995  Have to play this game it is the best you won'...  \n",
      "99996                                Dragones incredible  \n",
      "99997  Cool app and im so many dragon And thanks to t...  \n",
      "99998                Awesome heroics I have two heroics.  \n",
      "99999                    This is the best game i love it  \n",
      "\n",
      "[100000 rows x 7 columns]>\n",
      "<bound method NDFrame.head of       Country  Rating        Date Version             Username      Title  \\\n",
      "0          US       2  2023-02-26  4.27.4       Emmalee Wetzel        NaN   \n",
      "1          US       1  2023-02-25  4.27.4       Joffil Alberio        NaN   \n",
      "2          US       1  2023-02-25  4.27.4        Shyla Knudsen        NaN   \n",
      "3          US       4  2023-02-25     NaN        Justin Carpio        NaN   \n",
      "4          US       5  2023-02-25     NaN        Michael Teare        NaN   \n",
      "...       ...     ...         ...     ...                  ...        ...   \n",
      "71640      US       3  2013-12-24   2.1.1         RUFINO ARAUT    Love it   \n",
      "71641      US       1  2013-12-24   2.1.1  Isz Nurlisa Shahira         Mu   \n",
      "71642      US       5  2013-12-24   2.1.1        A Google user    LOVE IT   \n",
      "71643      US       5  2013-12-24   2.1.1      Gorawyn Diamwnt  Excellent   \n",
      "71644      US       5  2013-12-24   2.1.1            Kim Thanh        NaN   \n",
      "\n",
      "                                                 Content  \n",
      "0      I cannot get into my dragonvale account thats ...  \n",
      "1      Am I the only one playing this game in 2023, w...  \n",
      "2      I had a world before and it didn't show up, as...  \n",
      "3                                     This game is Nice😎  \n",
      "4                                              Thank you  \n",
      "...                                                  ...  \n",
      "71640                      I can,t not playing this game  \n",
      "71641                                                Huh  \n",
      "71642                                           Amazing.  \n",
      "71643                                            Love it  \n",
      "71644                                  Hhhhhhhhhhhhhhhhh  \n",
      "\n",
      "[71645 rows x 7 columns]>\n"
     ]
    }
   ],
   "source": [
    "print(DML.head)\n",
    "print(DC.head)\n",
    "print(DV.head)\n"
   ]
  },
  {
   "cell_type": "code",
   "execution_count": 5,
   "metadata": {},
   "outputs": [],
   "source": [
    "from gensim.models import Word2Vec\n",
    "import nltk\n",
    "from gensim.models import KeyedVectors\n",
    "from nltk.cluster import KMeansClusterer\n",
    "import numpy as np \n",
    "\n",
    "from sklearn import cluster\n",
    "from sklearn import metrics"
   ]
  },
  {
   "cell_type": "code",
   "execution_count": 6,
   "metadata": {},
   "outputs": [],
   "source": [
    "import re"
   ]
  },
  {
   "cell_type": "code",
   "execution_count": 7,
   "metadata": {},
   "outputs": [],
   "source": [
    "def nlp_pipeline(text):\n",
    "\n",
    "    text = text.lower() # mettre les mots en minuscule\n",
    "\n",
    "# Retirons les caractères spéciaux :\n",
    "\n",
    "    text = re.sub(r\"[,\\!\\?\\%\\(\\)\\/\\\"]\", \"\", text)\n",
    "    text = re.sub(r\"\\&\\S*\\s\", \"\", text)\n",
    "    text = re.sub(r\"\\-\", \"\", text)\n",
    "    \n",
    "    return text\n"
   ]
  },
  {
   "cell_type": "code",
   "execution_count": 8,
   "metadata": {},
   "outputs": [],
   "source": [
    "!python -m spacy download en_core_web_md"
   ]
  },
  {
   "cell_type": "code",
   "execution_count": 2,
   "metadata": {},
   "outputs": [
    {
     "ename": "",
     "evalue": "",
     "output_type": "error",
     "traceback": [
      "\u001b[1;31mThe Kernel crashed while executing code in the the current cell or a previous cell. Please review the code in the cell(s) to identify a possible cause of the failure. Click <a href='https://aka.ms/vscodeJupyterKernelCrash'>here</a> for more info. View Jupyter <a href='command:jupyter.viewOutput'>log</a> for further details."
     ]
    },
    {
     "ename": "",
     "evalue": "",
     "output_type": "error",
     "traceback": [
      "\u001b[1;31mCanceled future for execute_request message before replies were done"
     ]
    }
   ],
   "source": [
    "import spacy"
   ]
  },
  {
   "cell_type": "code",
   "execution_count": 1,
   "metadata": {},
   "outputs": [
    {
     "name": "stdout",
     "output_type": "stream",
     "text": [
      "Found existing installation: spacy 3.5.0\n",
      "Uninstalling spacy-3.5.0:\n",
      "  Would remove:\n",
      "    /Users/ccontant/opt/anaconda3/envs/sklearn-env/bin/spacy\n",
      "    /Users/ccontant/opt/anaconda3/envs/sklearn-env/lib/python3.10/site-packages/spacy-3.5.0.dist-info/*\n",
      "    /Users/ccontant/opt/anaconda3/envs/sklearn-env/lib/python3.10/site-packages/spacy/*\n",
      "Proceed (Y/n)? ^C\n",
      "\u001b[31mERROR: Operation cancelled by user\u001b[0m\u001b[31m\n",
      "\u001b[0mNote: you may need to restart the kernel to use updated packages.\n"
     ]
    }
   ],
   "source": [
    "pip uninstall spacy "
   ]
  },
  {
   "cell_type": "code",
   "execution_count": 1,
   "metadata": {},
   "outputs": [
    {
     "name": "stdout",
     "output_type": "stream",
     "text": [
      "Collecting spacytextblob\n",
      "  Downloading spacytextblob-4.0.0-py3-none-any.whl (4.5 kB)\n",
      "Requirement already satisfied: spacy<4.0,>=3.0 in /Users/ccontant/opt/anaconda3/envs/sklearn-env/lib/python3.10/site-packages (from spacytextblob) (3.5.0)\n",
      "Collecting textblob<0.16.0,>=0.15.3\n",
      "  Downloading textblob-0.15.3-py2.py3-none-any.whl (636 kB)\n",
      "\u001b[2K     \u001b[90m━━━━━━━━━━━━━━━━━━━━━━━━━━━━━━━━━━━━━━━\u001b[0m \u001b[32m636.5/636.5 kB\u001b[0m \u001b[31m6.9 MB/s\u001b[0m eta \u001b[36m0:00:00\u001b[0ma \u001b[36m0:00:01\u001b[0m\n",
      "\u001b[?25hRequirement already satisfied: typer<0.8.0,>=0.3.0 in /Users/ccontant/opt/anaconda3/envs/sklearn-env/lib/python3.10/site-packages (from spacy<4.0,>=3.0->spacytextblob) (0.7.0)\n",
      "Requirement already satisfied: spacy-legacy<3.1.0,>=3.0.11 in /Users/ccontant/opt/anaconda3/envs/sklearn-env/lib/python3.10/site-packages (from spacy<4.0,>=3.0->spacytextblob) (3.0.12)\n",
      "Requirement already satisfied: cymem<2.1.0,>=2.0.2 in /Users/ccontant/opt/anaconda3/envs/sklearn-env/lib/python3.10/site-packages (from spacy<4.0,>=3.0->spacytextblob) (2.0.7)\n",
      "Requirement already satisfied: jinja2 in /Users/ccontant/opt/anaconda3/envs/sklearn-env/lib/python3.10/site-packages (from spacy<4.0,>=3.0->spacytextblob) (3.1.2)\n",
      "Requirement already satisfied: preshed<3.1.0,>=3.0.2 in /Users/ccontant/opt/anaconda3/envs/sklearn-env/lib/python3.10/site-packages (from spacy<4.0,>=3.0->spacytextblob) (3.0.8)\n",
      "Requirement already satisfied: langcodes<4.0.0,>=3.2.0 in /Users/ccontant/opt/anaconda3/envs/sklearn-env/lib/python3.10/site-packages (from spacy<4.0,>=3.0->spacytextblob) (3.3.0)\n",
      "Requirement already satisfied: packaging>=20.0 in /Users/ccontant/opt/anaconda3/envs/sklearn-env/lib/python3.10/site-packages (from spacy<4.0,>=3.0->spacytextblob) (21.3)\n",
      "Requirement already satisfied: pathy>=0.10.0 in /Users/ccontant/opt/anaconda3/envs/sklearn-env/lib/python3.10/site-packages (from spacy<4.0,>=3.0->spacytextblob) (0.10.1)\n",
      "Requirement already satisfied: wasabi<1.2.0,>=0.9.1 in /Users/ccontant/opt/anaconda3/envs/sklearn-env/lib/python3.10/site-packages (from spacy<4.0,>=3.0->spacytextblob) (1.1.1)\n",
      "Requirement already satisfied: srsly<3.0.0,>=2.4.3 in /Users/ccontant/opt/anaconda3/envs/sklearn-env/lib/python3.10/site-packages (from spacy<4.0,>=3.0->spacytextblob) (2.4.6)\n",
      "Requirement already satisfied: requests<3.0.0,>=2.13.0 in /Users/ccontant/opt/anaconda3/envs/sklearn-env/lib/python3.10/site-packages (from spacy<4.0,>=3.0->spacytextblob) (2.28.1)\n",
      "Requirement already satisfied: spacy-loggers<2.0.0,>=1.0.0 in /Users/ccontant/opt/anaconda3/envs/sklearn-env/lib/python3.10/site-packages (from spacy<4.0,>=3.0->spacytextblob) (1.0.4)\n",
      "Requirement already satisfied: pydantic!=1.8,!=1.8.1,<1.11.0,>=1.7.4 in /Users/ccontant/opt/anaconda3/envs/sklearn-env/lib/python3.10/site-packages (from spacy<4.0,>=3.0->spacytextblob) (1.10.5)\n",
      "Requirement already satisfied: tqdm<5.0.0,>=4.38.0 in /Users/ccontant/opt/anaconda3/envs/sklearn-env/lib/python3.10/site-packages (from spacy<4.0,>=3.0->spacytextblob) (4.64.1)\n",
      "Requirement already satisfied: smart-open<7.0.0,>=5.2.1 in /Users/ccontant/opt/anaconda3/envs/sklearn-env/lib/python3.10/site-packages (from spacy<4.0,>=3.0->spacytextblob) (6.3.0)\n",
      "Requirement already satisfied: setuptools in /Users/ccontant/opt/anaconda3/envs/sklearn-env/lib/python3.10/site-packages (from spacy<4.0,>=3.0->spacytextblob) (62.3.2)\n",
      "Requirement already satisfied: thinc<8.2.0,>=8.1.0 in /Users/ccontant/opt/anaconda3/envs/sklearn-env/lib/python3.10/site-packages (from spacy<4.0,>=3.0->spacytextblob) (8.1.8)\n",
      "Requirement already satisfied: catalogue<2.1.0,>=2.0.6 in /Users/ccontant/opt/anaconda3/envs/sklearn-env/lib/python3.10/site-packages (from spacy<4.0,>=3.0->spacytextblob) (2.0.8)\n",
      "Requirement already satisfied: murmurhash<1.1.0,>=0.28.0 in /Users/ccontant/opt/anaconda3/envs/sklearn-env/lib/python3.10/site-packages (from spacy<4.0,>=3.0->spacytextblob) (1.0.9)\n",
      "Requirement already satisfied: numpy>=1.15.0 in /Users/ccontant/opt/anaconda3/envs/sklearn-env/lib/python3.10/site-packages (from spacy<4.0,>=3.0->spacytextblob) (1.23.1)\n",
      "Requirement already satisfied: nltk>=3.1 in /Users/ccontant/opt/anaconda3/envs/sklearn-env/lib/python3.10/site-packages (from textblob<0.16.0,>=0.15.3->spacytextblob) (3.8.1)\n",
      "Requirement already satisfied: joblib in /Users/ccontant/opt/anaconda3/envs/sklearn-env/lib/python3.10/site-packages (from nltk>=3.1->textblob<0.16.0,>=0.15.3->spacytextblob) (1.1.0)\n",
      "Requirement already satisfied: regex>=2021.8.3 in /Users/ccontant/opt/anaconda3/envs/sklearn-env/lib/python3.10/site-packages (from nltk>=3.1->textblob<0.16.0,>=0.15.3->spacytextblob) (2022.10.31)\n",
      "Requirement already satisfied: click in /Users/ccontant/opt/anaconda3/envs/sklearn-env/lib/python3.10/site-packages (from nltk>=3.1->textblob<0.16.0,>=0.15.3->spacytextblob) (8.1.3)\n",
      "Requirement already satisfied: pyparsing!=3.0.5,>=2.0.2 in /Users/ccontant/opt/anaconda3/envs/sklearn-env/lib/python3.10/site-packages (from packaging>=20.0->spacy<4.0,>=3.0->spacytextblob) (3.0.9)\n",
      "Requirement already satisfied: typing-extensions>=4.2.0 in /Users/ccontant/opt/anaconda3/envs/sklearn-env/lib/python3.10/site-packages (from pydantic!=1.8,!=1.8.1,<1.11.0,>=1.7.4->spacy<4.0,>=3.0->spacytextblob) (4.4.0)\n",
      "Requirement already satisfied: certifi>=2017.4.17 in /Users/ccontant/opt/anaconda3/envs/sklearn-env/lib/python3.10/site-packages (from requests<3.0.0,>=2.13.0->spacy<4.0,>=3.0->spacytextblob) (2022.12.7)\n",
      "Requirement already satisfied: urllib3<1.27,>=1.21.1 in /Users/ccontant/opt/anaconda3/envs/sklearn-env/lib/python3.10/site-packages (from requests<3.0.0,>=2.13.0->spacy<4.0,>=3.0->spacytextblob) (1.26.11)\n",
      "Requirement already satisfied: idna<4,>=2.5 in /Users/ccontant/opt/anaconda3/envs/sklearn-env/lib/python3.10/site-packages (from requests<3.0.0,>=2.13.0->spacy<4.0,>=3.0->spacytextblob) (3.3)\n",
      "Requirement already satisfied: charset-normalizer<3,>=2 in /Users/ccontant/opt/anaconda3/envs/sklearn-env/lib/python3.10/site-packages (from requests<3.0.0,>=2.13.0->spacy<4.0,>=3.0->spacytextblob) (2.0.4)\n",
      "Requirement already satisfied: blis<0.8.0,>=0.7.8 in /Users/ccontant/opt/anaconda3/envs/sklearn-env/lib/python3.10/site-packages (from thinc<8.2.0,>=8.1.0->spacy<4.0,>=3.0->spacytextblob) (0.7.9)\n",
      "Requirement already satisfied: confection<1.0.0,>=0.0.1 in /Users/ccontant/opt/anaconda3/envs/sklearn-env/lib/python3.10/site-packages (from thinc<8.2.0,>=8.1.0->spacy<4.0,>=3.0->spacytextblob) (0.0.4)\n",
      "Requirement already satisfied: MarkupSafe>=2.0 in /Users/ccontant/opt/anaconda3/envs/sklearn-env/lib/python3.10/site-packages (from jinja2->spacy<4.0,>=3.0->spacytextblob) (2.1.2)\n",
      "Installing collected packages: textblob, spacytextblob\n",
      "  Attempting uninstall: textblob\n",
      "    Found existing installation: textblob 0.17.1\n",
      "    Uninstalling textblob-0.17.1:\n",
      "      Successfully uninstalled textblob-0.17.1\n",
      "Successfully installed spacytextblob-4.0.0 textblob-0.15.3\n",
      "Note: you may need to restart the kernel to use updated packages.\n"
     ]
    }
   ],
   "source": [
    "pip install spacytextblob"
   ]
  },
  {
   "cell_type": "code",
   "execution_count": 2,
   "metadata": {},
   "outputs": [],
   "source": [
    "!python -m spacy download en_core_web_md"
   ]
  },
  {
   "cell_type": "code",
   "execution_count": 2,
   "metadata": {},
   "outputs": [
    {
     "ename": "",
     "evalue": "",
     "output_type": "error",
     "traceback": [
      "\u001b[1;31mLe Kernel s’est bloqué lors de l’exécution du code dans la cellule active ou une cellule précédente. Veuillez vérifier le code dans la ou les cellules pour identifier une cause possible de l’échec. Cliquez <a href='https://aka.ms/vscodeJupyterKernelCrash'>ici</a> pour plus d’informations. Pour plus d’informations, consultez Jupyter <a href='command:jupyter.viewOutput'>log</a>."
     ]
    },
    {
     "ename": "",
     "evalue": "",
     "output_type": "error",
     "traceback": [
      "\u001b[1;31mCanceled future for execute_request message before replies were done"
     ]
    }
   ],
   "source": [
    "import spacy\n",
    "from spacytextblob.spacytextblob import SpacyTextBlob"
   ]
  },
  {
   "cell_type": "code",
   "execution_count": 1,
   "metadata": {},
   "outputs": [
    {
     "ename": "NameError",
     "evalue": "name 'spacy' is not defined",
     "output_type": "error",
     "traceback": [
      "\u001b[0;31m---------------------------------------------------------------------------\u001b[0m",
      "\u001b[0;31mNameError\u001b[0m                                 Traceback (most recent call last)",
      "Cell \u001b[0;32mIn[1], line 1\u001b[0m\n\u001b[0;32m----> 1\u001b[0m nlp \u001b[39m=\u001b[39mspacy\u001b[39m.\u001b[39mload(\u001b[39m\"\u001b[39m\u001b[39men_core_web_md\u001b[39m\u001b[39m\"\u001b[39m)\n",
      "\u001b[0;31mNameError\u001b[0m: name 'spacy' is not defined"
     ]
    }
   ],
   "source": [
    "nlp =spacy.load(\"en_core_web_md\")"
   ]
  },
  {
   "cell_type": "code",
   "execution_count": 15,
   "metadata": {},
   "outputs": [
    {
     "data": {
      "text/plain": [
       "<spacytextblob.spacytextblob.SpacyTextBlob at 0x7fe34c990190>"
      ]
     },
     "execution_count": 15,
     "metadata": {},
     "output_type": "execute_result"
    }
   ],
   "source": [
    "nlp.add_pipe('spacytextblob')"
   ]
  },
  {
   "cell_type": "code",
   "execution_count": 2,
   "metadata": {},
   "outputs": [],
   "source": [
    "def preprocess_comment(comment):\n",
    "    doc = nlp(comment.lower())\n",
    "    tokens = [token.lemma_ for token in doc if not token.is_stop and token.is_alpha]\n",
    "    return \" \".join(tokens)\n"
   ]
  },
  {
   "cell_type": "code",
   "execution_count": 3,
   "metadata": {},
   "outputs": [
    {
     "ename": "NameError",
     "evalue": "name 'DML' is not defined",
     "output_type": "error",
     "traceback": [
      "\u001b[0;31m---------------------------------------------------------------------------\u001b[0m",
      "\u001b[0;31mNameError\u001b[0m                                 Traceback (most recent call last)",
      "Cell \u001b[0;32mIn[3], line 1\u001b[0m\n\u001b[0;32m----> 1\u001b[0m preprocessed_comments \u001b[39m=\u001b[39m [preprocess_comment(comment) \u001b[39mfor\u001b[39;00m comment \u001b[39min\u001b[39;00m DML[\u001b[39m\"\u001b[39m\u001b[39mContent\u001b[39m\u001b[39m\"\u001b[39m]\u001b[39m.\u001b[39miloc[:\u001b[39m50\u001b[39m]]\n\u001b[1;32m      2\u001b[0m \u001b[39mprint\u001b[39m(preprocessed_comments)\n",
      "\u001b[0;31mNameError\u001b[0m: name 'DML' is not defined"
     ]
    }
   ],
   "source": [
    "preprocessed_comments = [preprocess_comment(comment) for comment in DML[\"Content\"].iloc[:50]]\n",
    "print(preprocessed_comments)"
   ]
  },
  {
   "cell_type": "code",
   "execution_count": 4,
   "metadata": {},
   "outputs": [
    {
     "ename": "NameError",
     "evalue": "name 'preprocessed_comments' is not defined",
     "output_type": "error",
     "traceback": [
      "\u001b[0;31m---------------------------------------------------------------------------\u001b[0m",
      "\u001b[0;31mNameError\u001b[0m                                 Traceback (most recent call last)",
      "Cell \u001b[0;32mIn[4], line 2\u001b[0m\n\u001b[1;32m      1\u001b[0m \u001b[39m# Analyser chaque commentaire et afficher le sentiment\u001b[39;00m\n\u001b[0;32m----> 2\u001b[0m \u001b[39mfor\u001b[39;00m commentaire \u001b[39min\u001b[39;00m preprocessed_comments:\n\u001b[1;32m      3\u001b[0m     doc \u001b[39m=\u001b[39m nlp(commentaire)\n\u001b[1;32m      4\u001b[0m     sentiment \u001b[39m=\u001b[39m doc\u001b[39m.\u001b[39m_\u001b[39m.\u001b[39mpolarity\n",
      "\u001b[0;31mNameError\u001b[0m: name 'preprocessed_comments' is not defined"
     ]
    }
   ],
   "source": [
    "# Analyser chaque commentaire et afficher le sentiment\n",
    "for commentaire in preprocessed_comments:\n",
    "    doc = nlp(commentaire)\n",
    "    sentiment = doc._.polarity\n",
    "    if sentiment > 0:\n",
    "        print(f\"{commentaire} -> Sentiment positif ({sentiment})\")\n",
    "    elif sentiment < 0:\n",
    "        print(f\"{commentaire} -> Sentiment négatif ({sentiment})\")\n",
    "    else:\n",
    "        print(f\"{commentaire} -> Sentiment neutre ({sentiment})\")"
   ]
  },
  {
   "cell_type": "code",
   "execution_count": null,
   "metadata": {},
   "outputs": [],
   "source": []
  }
 ],
 "metadata": {
  "kernelspec": {
   "display_name": "sklearn-env",
   "language": "python",
   "name": "python3"
  },
  "language_info": {
   "codemirror_mode": {
    "name": "ipython",
    "version": 3
   },
   "file_extension": ".py",
   "mimetype": "text/x-python",
   "name": "python",
   "nbconvert_exporter": "python",
   "pygments_lexer": "ipython3",
   "version": "3.10.4"
  },
  "vscode": {
   "interpreter": {
    "hash": "f0fb3de7d46d5af5fb2aaa8086dd34166a94873d8d00b39ebb32a8659ae74e2d"
   }
  }
 },
 "nbformat": 4,
 "nbformat_minor": 4
}
